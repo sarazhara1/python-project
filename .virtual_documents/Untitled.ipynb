# MyPackage Tutorial

Ky notebook tregon sesi përdoret paketat `mypackage` që përfshin:
- `DataAnalyzer`
- `DataVisualizer`


from mypackage import DataAnalyzer, DataVisualizer

data = [1, 2, 3, 4, 5, 6]



analyzer = DataAnalyzer(data)
print("Mean:", analyzer.mean())
print("Variance:", analyzer.variance())
print("Moving average (window=3):", analyzer.moving_average(3))



visualizer = DataVisualizer(data)
visualizer.histogram(bins=3)
visualizer.line()




